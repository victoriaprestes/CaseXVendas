{
  "nbformat": 4,
  "nbformat_minor": 0,
  "metadata": {
    "colab": {
      "provenance": [],
      "authorship_tag": "ABX9TyN/pBYa4hg9jy63nAYNZ/0B",
      "include_colab_link": true
    },
    "kernelspec": {
      "name": "python3",
      "display_name": "Python 3"
    },
    "language_info": {
      "name": "python"
    }
  },
  "cells": [
    {
      "cell_type": "markdown",
      "metadata": {
        "id": "view-in-github",
        "colab_type": "text"
      },
      "source": [
        "<a href=\"https://colab.research.google.com/github/victoriaprestes/CaseXVendas/blob/main/AnaliseRentabilidade.ipynb\" target=\"_parent\"><img src=\"https://colab.research.google.com/assets/colab-badge.svg\" alt=\"Open In Colab\"/></a>"
      ]
    },
    {
      "cell_type": "markdown",
      "source": [
        "O case apresenta o seguinte questionamento:\n",
        "\n",
        "\"No último ano, o XVendas apresentou perda gradual na rentabilidade. Sabe-se que o volume de vendas permaneceu estável durante o período. O que pode ser a causa desse comportamento?\""
      ],
      "metadata": {
        "id": "zNrwKtEzfWHZ"
      }
    },
    {
      "cell_type": "markdown",
      "source": [
        "Para chegar à resposta dessa pergunta, irei seguir três passos:\n",
        "1. Análise e limpeza dos dados (se necessário);\n",
        "2. Visualização da distribuição dos gastos ao longo dos meses;\n",
        "3. Correlação de Variáveis (Relacionamentos);\n",
        "\n",
        "\n"
      ],
      "metadata": {
        "id": "cKKTDV-NftAx"
      }
    },
    {
      "cell_type": "markdown",
      "source": [
        "# Análise e Limpeza dos Dados"
      ],
      "metadata": {
        "id": "jYwF82ioruOQ"
      }
    },
    {
      "cell_type": "code",
      "source": [
        "from google.colab import drive\n",
        "drive.mount('/content/drive')"
      ],
      "metadata": {
        "colab": {
          "base_uri": "https://localhost:8080/"
        },
        "id": "UfjmXHTpgZL9",
        "outputId": "9e12025c-f735-42b2-e903-2e82c0b1adb4"
      },
      "execution_count": null,
      "outputs": [
        {
          "output_type": "stream",
          "name": "stdout",
          "text": [
            "Mounted at /content/drive\n"
          ]
        }
      ]
    },
    {
      "cell_type": "code",
      "source": [
        "import pandas as pd\n",
        "import matplotlib.pyplot as plt\n",
        "import seaborn as sns"
      ],
      "metadata": {
        "id": "dRxxlfP3ldTf"
      },
      "execution_count": null,
      "outputs": []
    },
    {
      "cell_type": "code",
      "source": [
        "data = pd.read_excel('/content/drive/MyDrive/CASES/Case_Vaga_Analista_Intelligence_1.xlsx')\n",
        "case_df = data.copy()\n",
        "case_df.head()"
      ],
      "metadata": {
        "colab": {
          "base_uri": "https://localhost:8080/"
        },
        "id": "mxWMbjN9hL-p",
        "outputId": "e2121612-275a-42d7-f5e7-c0c8d4e3f82f"
      },
      "execution_count": null,
      "outputs": [
        {
          "output_type": "execute_result",
          "data": {
            "text/plain": [
              "   Mês           Categoria  Custo Entrega  Custo dos Produtos  Custo Marketing\n",
              "0    1            AC AUDIO    80353.50458        36247.578746     11352.354514\n",
              "1    1       AC BT SPEAKER    45448.46538        82168.278219     19423.724235\n",
              "2    1      AC CALCULADORA     2253.74290         3309.124869       813.303043\n",
              "3    1        AC CELULARES    22829.13170        18308.656441      5471.035672\n",
              "4    1  AC ELETRODOMESTICO      432.07736           76.286501        33.111653"
            ],
            "text/html": [
              "\n",
              "  <div id=\"df-aad9f6f3-cef5-4ae9-abda-ea722b042ff0\" class=\"colab-df-container\">\n",
              "    <div>\n",
              "<style scoped>\n",
              "    .dataframe tbody tr th:only-of-type {\n",
              "        vertical-align: middle;\n",
              "    }\n",
              "\n",
              "    .dataframe tbody tr th {\n",
              "        vertical-align: top;\n",
              "    }\n",
              "\n",
              "    .dataframe thead th {\n",
              "        text-align: right;\n",
              "    }\n",
              "</style>\n",
              "<table border=\"1\" class=\"dataframe\">\n",
              "  <thead>\n",
              "    <tr style=\"text-align: right;\">\n",
              "      <th></th>\n",
              "      <th>Mês</th>\n",
              "      <th>Categoria</th>\n",
              "      <th>Custo Entrega</th>\n",
              "      <th>Custo dos Produtos</th>\n",
              "      <th>Custo Marketing</th>\n",
              "    </tr>\n",
              "  </thead>\n",
              "  <tbody>\n",
              "    <tr>\n",
              "      <th>0</th>\n",
              "      <td>1</td>\n",
              "      <td>AC AUDIO</td>\n",
              "      <td>80353.50458</td>\n",
              "      <td>36247.578746</td>\n",
              "      <td>11352.354514</td>\n",
              "    </tr>\n",
              "    <tr>\n",
              "      <th>1</th>\n",
              "      <td>1</td>\n",
              "      <td>AC BT SPEAKER</td>\n",
              "      <td>45448.46538</td>\n",
              "      <td>82168.278219</td>\n",
              "      <td>19423.724235</td>\n",
              "    </tr>\n",
              "    <tr>\n",
              "      <th>2</th>\n",
              "      <td>1</td>\n",
              "      <td>AC CALCULADORA</td>\n",
              "      <td>2253.74290</td>\n",
              "      <td>3309.124869</td>\n",
              "      <td>813.303043</td>\n",
              "    </tr>\n",
              "    <tr>\n",
              "      <th>3</th>\n",
              "      <td>1</td>\n",
              "      <td>AC CELULARES</td>\n",
              "      <td>22829.13170</td>\n",
              "      <td>18308.656441</td>\n",
              "      <td>5471.035672</td>\n",
              "    </tr>\n",
              "    <tr>\n",
              "      <th>4</th>\n",
              "      <td>1</td>\n",
              "      <td>AC ELETRODOMESTICO</td>\n",
              "      <td>432.07736</td>\n",
              "      <td>76.286501</td>\n",
              "      <td>33.111653</td>\n",
              "    </tr>\n",
              "  </tbody>\n",
              "</table>\n",
              "</div>\n",
              "    <div class=\"colab-df-buttons\">\n",
              "\n",
              "  <div class=\"colab-df-container\">\n",
              "    <button class=\"colab-df-convert\" onclick=\"convertToInteractive('df-aad9f6f3-cef5-4ae9-abda-ea722b042ff0')\"\n",
              "            title=\"Convert this dataframe to an interactive table.\"\n",
              "            style=\"display:none;\">\n",
              "\n",
              "  <svg xmlns=\"http://www.w3.org/2000/svg\" height=\"24px\" viewBox=\"0 -960 960 960\">\n",
              "    <path d=\"M120-120v-720h720v720H120Zm60-500h600v-160H180v160Zm220 220h160v-160H400v160Zm0 220h160v-160H400v160ZM180-400h160v-160H180v160Zm440 0h160v-160H620v160ZM180-180h160v-160H180v160Zm440 0h160v-160H620v160Z\"/>\n",
              "  </svg>\n",
              "    </button>\n",
              "\n",
              "  <style>\n",
              "    .colab-df-container {\n",
              "      display:flex;\n",
              "      gap: 12px;\n",
              "    }\n",
              "\n",
              "    .colab-df-convert {\n",
              "      background-color: #E8F0FE;\n",
              "      border: none;\n",
              "      border-radius: 50%;\n",
              "      cursor: pointer;\n",
              "      display: none;\n",
              "      fill: #1967D2;\n",
              "      height: 32px;\n",
              "      padding: 0 0 0 0;\n",
              "      width: 32px;\n",
              "    }\n",
              "\n",
              "    .colab-df-convert:hover {\n",
              "      background-color: #E2EBFA;\n",
              "      box-shadow: 0px 1px 2px rgba(60, 64, 67, 0.3), 0px 1px 3px 1px rgba(60, 64, 67, 0.15);\n",
              "      fill: #174EA6;\n",
              "    }\n",
              "\n",
              "    .colab-df-buttons div {\n",
              "      margin-bottom: 4px;\n",
              "    }\n",
              "\n",
              "    [theme=dark] .colab-df-convert {\n",
              "      background-color: #3B4455;\n",
              "      fill: #D2E3FC;\n",
              "    }\n",
              "\n",
              "    [theme=dark] .colab-df-convert:hover {\n",
              "      background-color: #434B5C;\n",
              "      box-shadow: 0px 1px 3px 1px rgba(0, 0, 0, 0.15);\n",
              "      filter: drop-shadow(0px 1px 2px rgba(0, 0, 0, 0.3));\n",
              "      fill: #FFFFFF;\n",
              "    }\n",
              "  </style>\n",
              "\n",
              "    <script>\n",
              "      const buttonEl =\n",
              "        document.querySelector('#df-aad9f6f3-cef5-4ae9-abda-ea722b042ff0 button.colab-df-convert');\n",
              "      buttonEl.style.display =\n",
              "        google.colab.kernel.accessAllowed ? 'block' : 'none';\n",
              "\n",
              "      async function convertToInteractive(key) {\n",
              "        const element = document.querySelector('#df-aad9f6f3-cef5-4ae9-abda-ea722b042ff0');\n",
              "        const dataTable =\n",
              "          await google.colab.kernel.invokeFunction('convertToInteractive',\n",
              "                                                    [key], {});\n",
              "        if (!dataTable) return;\n",
              "\n",
              "        const docLinkHtml = 'Like what you see? Visit the ' +\n",
              "          '<a target=\"_blank\" href=https://colab.research.google.com/notebooks/data_table.ipynb>data table notebook</a>'\n",
              "          + ' to learn more about interactive tables.';\n",
              "        element.innerHTML = '';\n",
              "        dataTable['output_type'] = 'display_data';\n",
              "        await google.colab.output.renderOutput(dataTable, element);\n",
              "        const docLink = document.createElement('div');\n",
              "        docLink.innerHTML = docLinkHtml;\n",
              "        element.appendChild(docLink);\n",
              "      }\n",
              "    </script>\n",
              "  </div>\n",
              "\n",
              "\n",
              "<div id=\"df-77e04987-0157-47f9-aafc-c5286d999d05\">\n",
              "  <button class=\"colab-df-quickchart\" onclick=\"quickchart('df-77e04987-0157-47f9-aafc-c5286d999d05')\"\n",
              "            title=\"Suggest charts\"\n",
              "            style=\"display:none;\">\n",
              "\n",
              "<svg xmlns=\"http://www.w3.org/2000/svg\" height=\"24px\"viewBox=\"0 0 24 24\"\n",
              "     width=\"24px\">\n",
              "    <g>\n",
              "        <path d=\"M19 3H5c-1.1 0-2 .9-2 2v14c0 1.1.9 2 2 2h14c1.1 0 2-.9 2-2V5c0-1.1-.9-2-2-2zM9 17H7v-7h2v7zm4 0h-2V7h2v10zm4 0h-2v-4h2v4z\"/>\n",
              "    </g>\n",
              "</svg>\n",
              "  </button>\n",
              "\n",
              "<style>\n",
              "  .colab-df-quickchart {\n",
              "      --bg-color: #E8F0FE;\n",
              "      --fill-color: #1967D2;\n",
              "      --hover-bg-color: #E2EBFA;\n",
              "      --hover-fill-color: #174EA6;\n",
              "      --disabled-fill-color: #AAA;\n",
              "      --disabled-bg-color: #DDD;\n",
              "  }\n",
              "\n",
              "  [theme=dark] .colab-df-quickchart {\n",
              "      --bg-color: #3B4455;\n",
              "      --fill-color: #D2E3FC;\n",
              "      --hover-bg-color: #434B5C;\n",
              "      --hover-fill-color: #FFFFFF;\n",
              "      --disabled-bg-color: #3B4455;\n",
              "      --disabled-fill-color: #666;\n",
              "  }\n",
              "\n",
              "  .colab-df-quickchart {\n",
              "    background-color: var(--bg-color);\n",
              "    border: none;\n",
              "    border-radius: 50%;\n",
              "    cursor: pointer;\n",
              "    display: none;\n",
              "    fill: var(--fill-color);\n",
              "    height: 32px;\n",
              "    padding: 0;\n",
              "    width: 32px;\n",
              "  }\n",
              "\n",
              "  .colab-df-quickchart:hover {\n",
              "    background-color: var(--hover-bg-color);\n",
              "    box-shadow: 0 1px 2px rgba(60, 64, 67, 0.3), 0 1px 3px 1px rgba(60, 64, 67, 0.15);\n",
              "    fill: var(--button-hover-fill-color);\n",
              "  }\n",
              "\n",
              "  .colab-df-quickchart-complete:disabled,\n",
              "  .colab-df-quickchart-complete:disabled:hover {\n",
              "    background-color: var(--disabled-bg-color);\n",
              "    fill: var(--disabled-fill-color);\n",
              "    box-shadow: none;\n",
              "  }\n",
              "\n",
              "  .colab-df-spinner {\n",
              "    border: 2px solid var(--fill-color);\n",
              "    border-color: transparent;\n",
              "    border-bottom-color: var(--fill-color);\n",
              "    animation:\n",
              "      spin 1s steps(1) infinite;\n",
              "  }\n",
              "\n",
              "  @keyframes spin {\n",
              "    0% {\n",
              "      border-color: transparent;\n",
              "      border-bottom-color: var(--fill-color);\n",
              "      border-left-color: var(--fill-color);\n",
              "    }\n",
              "    20% {\n",
              "      border-color: transparent;\n",
              "      border-left-color: var(--fill-color);\n",
              "      border-top-color: var(--fill-color);\n",
              "    }\n",
              "    30% {\n",
              "      border-color: transparent;\n",
              "      border-left-color: var(--fill-color);\n",
              "      border-top-color: var(--fill-color);\n",
              "      border-right-color: var(--fill-color);\n",
              "    }\n",
              "    40% {\n",
              "      border-color: transparent;\n",
              "      border-right-color: var(--fill-color);\n",
              "      border-top-color: var(--fill-color);\n",
              "    }\n",
              "    60% {\n",
              "      border-color: transparent;\n",
              "      border-right-color: var(--fill-color);\n",
              "    }\n",
              "    80% {\n",
              "      border-color: transparent;\n",
              "      border-right-color: var(--fill-color);\n",
              "      border-bottom-color: var(--fill-color);\n",
              "    }\n",
              "    90% {\n",
              "      border-color: transparent;\n",
              "      border-bottom-color: var(--fill-color);\n",
              "    }\n",
              "  }\n",
              "</style>\n",
              "\n",
              "  <script>\n",
              "    async function quickchart(key) {\n",
              "      const quickchartButtonEl =\n",
              "        document.querySelector('#' + key + ' button');\n",
              "      quickchartButtonEl.disabled = true;  // To prevent multiple clicks.\n",
              "      quickchartButtonEl.classList.add('colab-df-spinner');\n",
              "      try {\n",
              "        const charts = await google.colab.kernel.invokeFunction(\n",
              "            'suggestCharts', [key], {});\n",
              "      } catch (error) {\n",
              "        console.error('Error during call to suggestCharts:', error);\n",
              "      }\n",
              "      quickchartButtonEl.classList.remove('colab-df-spinner');\n",
              "      quickchartButtonEl.classList.add('colab-df-quickchart-complete');\n",
              "    }\n",
              "    (() => {\n",
              "      let quickchartButtonEl =\n",
              "        document.querySelector('#df-77e04987-0157-47f9-aafc-c5286d999d05 button');\n",
              "      quickchartButtonEl.style.display =\n",
              "        google.colab.kernel.accessAllowed ? 'block' : 'none';\n",
              "    })();\n",
              "  </script>\n",
              "</div>\n",
              "\n",
              "    </div>\n",
              "  </div>\n"
            ],
            "application/vnd.google.colaboratory.intrinsic+json": {
              "type": "dataframe",
              "variable_name": "case_df",
              "summary": "{\n  \"name\": \"case_df\",\n  \"rows\": 3521,\n  \"fields\": [\n    {\n      \"column\": \"M\\u00eas\",\n      \"properties\": {\n        \"dtype\": \"number\",\n        \"std\": 2,\n        \"min\": 1,\n        \"max\": 9,\n        \"num_unique_values\": 9,\n        \"samples\": [\n          8,\n          2,\n          6\n        ],\n        \"semantic_type\": \"\",\n        \"description\": \"\"\n      }\n    },\n    {\n      \"column\": \"Categoria\",\n      \"properties\": {\n        \"dtype\": \"category\",\n        \"num_unique_values\": 415,\n        \"samples\": [\n          \"AREA EXTERNA\",\n          \"COLCHAO ESPUMA SOLTEIRO-PE\",\n          \"CRISTALEIRAS\"\n        ],\n        \"semantic_type\": \"\",\n        \"description\": \"\"\n      }\n    },\n    {\n      \"column\": \"Custo Entrega\",\n      \"properties\": {\n        \"dtype\": \"number\",\n        \"std\": 3108081.9588920334,\n        \"min\": 0.0,\n        \"max\": 157937409.317846,\n        \"num_unique_values\": 3513,\n        \"samples\": [\n          263192.54958,\n          1558.18392,\n          5808.01788\n        ],\n        \"semantic_type\": \"\",\n        \"description\": \"\"\n      }\n    },\n    {\n      \"column\": \"Custo dos Produtos\",\n      \"properties\": {\n        \"dtype\": \"number\",\n        \"std\": 14619411.835961195,\n        \"min\": 0.233151901013334,\n        \"max\": 417080788.941888,\n        \"num_unique_values\": 3521,\n        \"samples\": [\n          4207.59377594666,\n          197.749969367147,\n          4466557.31438186\n        ],\n        \"semantic_type\": \"\",\n        \"description\": \"\"\n      }\n    },\n    {\n      \"column\": \"Custo Marketing\",\n      \"properties\": {\n        \"dtype\": \"number\",\n        \"std\": 2959443.7831075946,\n        \"min\": 0.068167653408,\n        \"max\": 97914857.3422036,\n        \"num_unique_values\": 3521,\n        \"samples\": [\n          894.764681133621,\n          65.507910313824,\n          1424544.31913856\n        ],\n        \"semantic_type\": \"\",\n        \"description\": \"\"\n      }\n    }\n  ]\n}"
            }
          },
          "metadata": {},
          "execution_count": 4
        }
      ]
    },
    {
      "cell_type": "markdown",
      "source": [
        "### Formato dos dados"
      ],
      "metadata": {
        "id": "dgLWthwJszJq"
      }
    },
    {
      "cell_type": "code",
      "source": [
        "print('total de linhas:', case_df.shape[0])\n",
        "print('total de colunas:', case_df.shape[1])"
      ],
      "metadata": {
        "colab": {
          "base_uri": "https://localhost:8080/"
        },
        "id": "UyR8KrPArit-",
        "outputId": "b6912617-0014-4f83-d973-ee0cdd9ff25a"
      },
      "execution_count": null,
      "outputs": [
        {
          "output_type": "stream",
          "name": "stdout",
          "text": [
            "total de linhas: 3521\n",
            "total de colunas: 5\n"
          ]
        }
      ]
    },
    {
      "cell_type": "markdown",
      "source": [
        "### Valores nulos e tipo de variáveis"
      ],
      "metadata": {
        "id": "WUQFad-BsvO-"
      }
    },
    {
      "cell_type": "code",
      "source": [
        "case_df.info()"
      ],
      "metadata": {
        "colab": {
          "base_uri": "https://localhost:8080/"
        },
        "id": "EuGfCkc8sFYF",
        "outputId": "fe185c6d-04e8-4903-d147-b16f4dba78e7"
      },
      "execution_count": null,
      "outputs": [
        {
          "output_type": "stream",
          "name": "stdout",
          "text": [
            "<class 'pandas.core.frame.DataFrame'>\n",
            "RangeIndex: 3521 entries, 0 to 3520\n",
            "Data columns (total 5 columns):\n",
            " #   Column              Non-Null Count  Dtype  \n",
            "---  ------              --------------  -----  \n",
            " 0   Mês                 3521 non-null   int64  \n",
            " 1   Categoria           3521 non-null   object \n",
            " 2   Custo Entrega       3521 non-null   float64\n",
            " 3   Custo dos Produtos  3521 non-null   float64\n",
            " 4   Custo Marketing     3521 non-null   float64\n",
            "dtypes: float64(3), int64(1), object(1)\n",
            "memory usage: 137.7+ KB\n"
          ]
        }
      ]
    },
    {
      "cell_type": "code",
      "source": [
        "case_df.describe()"
      ],
      "metadata": {
        "id": "TASyvwlBc3ac",
        "outputId": "b191caca-7c20-43cc-f647-b6c67297a04a",
        "colab": {
          "base_uri": "https://localhost:8080/"
        }
      },
      "execution_count": null,
      "outputs": [
        {
          "output_type": "execute_result",
          "data": {
            "text/plain": [
              "               Mês  Custo Entrega  Custo dos Produtos  Custo Marketing\n",
              "count  3521.000000   3.521000e+03        3.521000e+03     3.521000e+03\n",
              "mean      4.980403   3.031283e+05        1.361742e+06     2.920965e+05\n",
              "std       2.582263   3.108082e+06        1.461941e+07     2.959444e+06\n",
              "min       1.000000   0.000000e+00        2.331519e-01     6.816765e-02\n",
              "25%       3.000000   4.387751e+03        1.631838e+03     4.735437e+02\n",
              "50%       5.000000   2.984134e+04        1.412240e+04     3.866200e+03\n",
              "75%       7.000000   1.449348e+05        9.337045e+04     2.539583e+04\n",
              "max       9.000000   1.579374e+08        4.170808e+08     9.791486e+07"
            ],
            "text/html": [
              "\n",
              "  <div id=\"df-d4133473-d1e5-4230-8469-9c4d4897f439\" class=\"colab-df-container\">\n",
              "    <div>\n",
              "<style scoped>\n",
              "    .dataframe tbody tr th:only-of-type {\n",
              "        vertical-align: middle;\n",
              "    }\n",
              "\n",
              "    .dataframe tbody tr th {\n",
              "        vertical-align: top;\n",
              "    }\n",
              "\n",
              "    .dataframe thead th {\n",
              "        text-align: right;\n",
              "    }\n",
              "</style>\n",
              "<table border=\"1\" class=\"dataframe\">\n",
              "  <thead>\n",
              "    <tr style=\"text-align: right;\">\n",
              "      <th></th>\n",
              "      <th>Mês</th>\n",
              "      <th>Custo Entrega</th>\n",
              "      <th>Custo dos Produtos</th>\n",
              "      <th>Custo Marketing</th>\n",
              "    </tr>\n",
              "  </thead>\n",
              "  <tbody>\n",
              "    <tr>\n",
              "      <th>count</th>\n",
              "      <td>3521.000000</td>\n",
              "      <td>3.521000e+03</td>\n",
              "      <td>3.521000e+03</td>\n",
              "      <td>3.521000e+03</td>\n",
              "    </tr>\n",
              "    <tr>\n",
              "      <th>mean</th>\n",
              "      <td>4.980403</td>\n",
              "      <td>3.031283e+05</td>\n",
              "      <td>1.361742e+06</td>\n",
              "      <td>2.920965e+05</td>\n",
              "    </tr>\n",
              "    <tr>\n",
              "      <th>std</th>\n",
              "      <td>2.582263</td>\n",
              "      <td>3.108082e+06</td>\n",
              "      <td>1.461941e+07</td>\n",
              "      <td>2.959444e+06</td>\n",
              "    </tr>\n",
              "    <tr>\n",
              "      <th>min</th>\n",
              "      <td>1.000000</td>\n",
              "      <td>0.000000e+00</td>\n",
              "      <td>2.331519e-01</td>\n",
              "      <td>6.816765e-02</td>\n",
              "    </tr>\n",
              "    <tr>\n",
              "      <th>25%</th>\n",
              "      <td>3.000000</td>\n",
              "      <td>4.387751e+03</td>\n",
              "      <td>1.631838e+03</td>\n",
              "      <td>4.735437e+02</td>\n",
              "    </tr>\n",
              "    <tr>\n",
              "      <th>50%</th>\n",
              "      <td>5.000000</td>\n",
              "      <td>2.984134e+04</td>\n",
              "      <td>1.412240e+04</td>\n",
              "      <td>3.866200e+03</td>\n",
              "    </tr>\n",
              "    <tr>\n",
              "      <th>75%</th>\n",
              "      <td>7.000000</td>\n",
              "      <td>1.449348e+05</td>\n",
              "      <td>9.337045e+04</td>\n",
              "      <td>2.539583e+04</td>\n",
              "    </tr>\n",
              "    <tr>\n",
              "      <th>max</th>\n",
              "      <td>9.000000</td>\n",
              "      <td>1.579374e+08</td>\n",
              "      <td>4.170808e+08</td>\n",
              "      <td>9.791486e+07</td>\n",
              "    </tr>\n",
              "  </tbody>\n",
              "</table>\n",
              "</div>\n",
              "    <div class=\"colab-df-buttons\">\n",
              "\n",
              "  <div class=\"colab-df-container\">\n",
              "    <button class=\"colab-df-convert\" onclick=\"convertToInteractive('df-d4133473-d1e5-4230-8469-9c4d4897f439')\"\n",
              "            title=\"Convert this dataframe to an interactive table.\"\n",
              "            style=\"display:none;\">\n",
              "\n",
              "  <svg xmlns=\"http://www.w3.org/2000/svg\" height=\"24px\" viewBox=\"0 -960 960 960\">\n",
              "    <path d=\"M120-120v-720h720v720H120Zm60-500h600v-160H180v160Zm220 220h160v-160H400v160Zm0 220h160v-160H400v160ZM180-400h160v-160H180v160Zm440 0h160v-160H620v160ZM180-180h160v-160H180v160Zm440 0h160v-160H620v160Z\"/>\n",
              "  </svg>\n",
              "    </button>\n",
              "\n",
              "  <style>\n",
              "    .colab-df-container {\n",
              "      display:flex;\n",
              "      gap: 12px;\n",
              "    }\n",
              "\n",
              "    .colab-df-convert {\n",
              "      background-color: #E8F0FE;\n",
              "      border: none;\n",
              "      border-radius: 50%;\n",
              "      cursor: pointer;\n",
              "      display: none;\n",
              "      fill: #1967D2;\n",
              "      height: 32px;\n",
              "      padding: 0 0 0 0;\n",
              "      width: 32px;\n",
              "    }\n",
              "\n",
              "    .colab-df-convert:hover {\n",
              "      background-color: #E2EBFA;\n",
              "      box-shadow: 0px 1px 2px rgba(60, 64, 67, 0.3), 0px 1px 3px 1px rgba(60, 64, 67, 0.15);\n",
              "      fill: #174EA6;\n",
              "    }\n",
              "\n",
              "    .colab-df-buttons div {\n",
              "      margin-bottom: 4px;\n",
              "    }\n",
              "\n",
              "    [theme=dark] .colab-df-convert {\n",
              "      background-color: #3B4455;\n",
              "      fill: #D2E3FC;\n",
              "    }\n",
              "\n",
              "    [theme=dark] .colab-df-convert:hover {\n",
              "      background-color: #434B5C;\n",
              "      box-shadow: 0px 1px 3px 1px rgba(0, 0, 0, 0.15);\n",
              "      filter: drop-shadow(0px 1px 2px rgba(0, 0, 0, 0.3));\n",
              "      fill: #FFFFFF;\n",
              "    }\n",
              "  </style>\n",
              "\n",
              "    <script>\n",
              "      const buttonEl =\n",
              "        document.querySelector('#df-d4133473-d1e5-4230-8469-9c4d4897f439 button.colab-df-convert');\n",
              "      buttonEl.style.display =\n",
              "        google.colab.kernel.accessAllowed ? 'block' : 'none';\n",
              "\n",
              "      async function convertToInteractive(key) {\n",
              "        const element = document.querySelector('#df-d4133473-d1e5-4230-8469-9c4d4897f439');\n",
              "        const dataTable =\n",
              "          await google.colab.kernel.invokeFunction('convertToInteractive',\n",
              "                                                    [key], {});\n",
              "        if (!dataTable) return;\n",
              "\n",
              "        const docLinkHtml = 'Like what you see? Visit the ' +\n",
              "          '<a target=\"_blank\" href=https://colab.research.google.com/notebooks/data_table.ipynb>data table notebook</a>'\n",
              "          + ' to learn more about interactive tables.';\n",
              "        element.innerHTML = '';\n",
              "        dataTable['output_type'] = 'display_data';\n",
              "        await google.colab.output.renderOutput(dataTable, element);\n",
              "        const docLink = document.createElement('div');\n",
              "        docLink.innerHTML = docLinkHtml;\n",
              "        element.appendChild(docLink);\n",
              "      }\n",
              "    </script>\n",
              "  </div>\n",
              "\n",
              "\n",
              "<div id=\"df-96a57ba1-6dcf-42bc-a82d-f10220b686ce\">\n",
              "  <button class=\"colab-df-quickchart\" onclick=\"quickchart('df-96a57ba1-6dcf-42bc-a82d-f10220b686ce')\"\n",
              "            title=\"Suggest charts\"\n",
              "            style=\"display:none;\">\n",
              "\n",
              "<svg xmlns=\"http://www.w3.org/2000/svg\" height=\"24px\"viewBox=\"0 0 24 24\"\n",
              "     width=\"24px\">\n",
              "    <g>\n",
              "        <path d=\"M19 3H5c-1.1 0-2 .9-2 2v14c0 1.1.9 2 2 2h14c1.1 0 2-.9 2-2V5c0-1.1-.9-2-2-2zM9 17H7v-7h2v7zm4 0h-2V7h2v10zm4 0h-2v-4h2v4z\"/>\n",
              "    </g>\n",
              "</svg>\n",
              "  </button>\n",
              "\n",
              "<style>\n",
              "  .colab-df-quickchart {\n",
              "      --bg-color: #E8F0FE;\n",
              "      --fill-color: #1967D2;\n",
              "      --hover-bg-color: #E2EBFA;\n",
              "      --hover-fill-color: #174EA6;\n",
              "      --disabled-fill-color: #AAA;\n",
              "      --disabled-bg-color: #DDD;\n",
              "  }\n",
              "\n",
              "  [theme=dark] .colab-df-quickchart {\n",
              "      --bg-color: #3B4455;\n",
              "      --fill-color: #D2E3FC;\n",
              "      --hover-bg-color: #434B5C;\n",
              "      --hover-fill-color: #FFFFFF;\n",
              "      --disabled-bg-color: #3B4455;\n",
              "      --disabled-fill-color: #666;\n",
              "  }\n",
              "\n",
              "  .colab-df-quickchart {\n",
              "    background-color: var(--bg-color);\n",
              "    border: none;\n",
              "    border-radius: 50%;\n",
              "    cursor: pointer;\n",
              "    display: none;\n",
              "    fill: var(--fill-color);\n",
              "    height: 32px;\n",
              "    padding: 0;\n",
              "    width: 32px;\n",
              "  }\n",
              "\n",
              "  .colab-df-quickchart:hover {\n",
              "    background-color: var(--hover-bg-color);\n",
              "    box-shadow: 0 1px 2px rgba(60, 64, 67, 0.3), 0 1px 3px 1px rgba(60, 64, 67, 0.15);\n",
              "    fill: var(--button-hover-fill-color);\n",
              "  }\n",
              "\n",
              "  .colab-df-quickchart-complete:disabled,\n",
              "  .colab-df-quickchart-complete:disabled:hover {\n",
              "    background-color: var(--disabled-bg-color);\n",
              "    fill: var(--disabled-fill-color);\n",
              "    box-shadow: none;\n",
              "  }\n",
              "\n",
              "  .colab-df-spinner {\n",
              "    border: 2px solid var(--fill-color);\n",
              "    border-color: transparent;\n",
              "    border-bottom-color: var(--fill-color);\n",
              "    animation:\n",
              "      spin 1s steps(1) infinite;\n",
              "  }\n",
              "\n",
              "  @keyframes spin {\n",
              "    0% {\n",
              "      border-color: transparent;\n",
              "      border-bottom-color: var(--fill-color);\n",
              "      border-left-color: var(--fill-color);\n",
              "    }\n",
              "    20% {\n",
              "      border-color: transparent;\n",
              "      border-left-color: var(--fill-color);\n",
              "      border-top-color: var(--fill-color);\n",
              "    }\n",
              "    30% {\n",
              "      border-color: transparent;\n",
              "      border-left-color: var(--fill-color);\n",
              "      border-top-color: var(--fill-color);\n",
              "      border-right-color: var(--fill-color);\n",
              "    }\n",
              "    40% {\n",
              "      border-color: transparent;\n",
              "      border-right-color: var(--fill-color);\n",
              "      border-top-color: var(--fill-color);\n",
              "    }\n",
              "    60% {\n",
              "      border-color: transparent;\n",
              "      border-right-color: var(--fill-color);\n",
              "    }\n",
              "    80% {\n",
              "      border-color: transparent;\n",
              "      border-right-color: var(--fill-color);\n",
              "      border-bottom-color: var(--fill-color);\n",
              "    }\n",
              "    90% {\n",
              "      border-color: transparent;\n",
              "      border-bottom-color: var(--fill-color);\n",
              "    }\n",
              "  }\n",
              "</style>\n",
              "\n",
              "  <script>\n",
              "    async function quickchart(key) {\n",
              "      const quickchartButtonEl =\n",
              "        document.querySelector('#' + key + ' button');\n",
              "      quickchartButtonEl.disabled = true;  // To prevent multiple clicks.\n",
              "      quickchartButtonEl.classList.add('colab-df-spinner');\n",
              "      try {\n",
              "        const charts = await google.colab.kernel.invokeFunction(\n",
              "            'suggestCharts', [key], {});\n",
              "      } catch (error) {\n",
              "        console.error('Error during call to suggestCharts:', error);\n",
              "      }\n",
              "      quickchartButtonEl.classList.remove('colab-df-spinner');\n",
              "      quickchartButtonEl.classList.add('colab-df-quickchart-complete');\n",
              "    }\n",
              "    (() => {\n",
              "      let quickchartButtonEl =\n",
              "        document.querySelector('#df-96a57ba1-6dcf-42bc-a82d-f10220b686ce button');\n",
              "      quickchartButtonEl.style.display =\n",
              "        google.colab.kernel.accessAllowed ? 'block' : 'none';\n",
              "    })();\n",
              "  </script>\n",
              "</div>\n",
              "\n",
              "    </div>\n",
              "  </div>\n"
            ],
            "application/vnd.google.colaboratory.intrinsic+json": {
              "type": "dataframe",
              "summary": "{\n  \"name\": \"case_df\",\n  \"rows\": 8,\n  \"fields\": [\n    {\n      \"column\": \"M\\u00eas\",\n      \"properties\": {\n        \"dtype\": \"number\",\n        \"std\": 1243.219410566361,\n        \"min\": 1.0,\n        \"max\": 3521.0,\n        \"num_unique_values\": 8,\n        \"samples\": [\n          4.980403294518602,\n          5.0,\n          3521.0\n        ],\n        \"semantic_type\": \"\",\n        \"description\": \"\"\n      }\n    },\n    {\n      \"column\": \"Custo Entrega\",\n      \"properties\": {\n        \"dtype\": \"number\",\n        \"std\": 55667962.006974705,\n        \"min\": 0.0,\n        \"max\": 157937409.317846,\n        \"num_unique_values\": 8,\n        \"samples\": [\n          303128.3226271311,\n          29841.339693312,\n          3521.0\n        ],\n        \"semantic_type\": \"\",\n        \"description\": \"\"\n      }\n    },\n    {\n      \"column\": \"Custo dos Produtos\",\n      \"properties\": {\n        \"dtype\": \"number\",\n        \"std\": 146734428.22312236,\n        \"min\": 0.233151901013334,\n        \"max\": 417080788.941888,\n        \"num_unique_values\": 8,\n        \"samples\": [\n          1361741.6327916137,\n          14122.4048282035,\n          3521.0\n        ],\n        \"semantic_type\": \"\",\n        \"description\": \"\"\n      }\n    },\n    {\n      \"column\": \"Custo Marketing\",\n      \"properties\": {\n        \"dtype\": \"number\",\n        \"std\": 34467359.99687188,\n        \"min\": 0.068167653408,\n        \"max\": 97914857.3422036,\n        \"num_unique_values\": 8,\n        \"samples\": [\n          292096.49018767907,\n          3866.20021840772,\n          3521.0\n        ],\n        \"semantic_type\": \"\",\n        \"description\": \"\"\n      }\n    }\n  ]\n}"
            }
          },
          "metadata": {},
          "execution_count": 7
        }
      ]
    },
    {
      "cell_type": "markdown",
      "source": [
        "# Visualização de gastos por mês\n"
      ],
      "metadata": {
        "id": "dfkpj7DBw4tl"
      }
    },
    {
      "cell_type": "code",
      "source": [
        "# Criando tabela com a soma total de custos por mês\n",
        "freq_entrega = case_df.groupby('Mês')['Custo Entrega'].sum()\n",
        "freq_prod = case_df.groupby('Mês')['Custo dos Produtos'].sum()\n",
        "freq_marketing = case_df.groupby('Mês')['Custo Marketing'].sum()\n",
        "freq_total = pd.DataFrame({'Custo Entrega': freq_entrega, 'Custo Produto': freq_prod, 'Custo Marketing': freq_marketing})"
      ],
      "metadata": {
        "id": "1S0j0o6Zw6Vv"
      },
      "execution_count": null,
      "outputs": []
    },
    {
      "cell_type": "code",
      "source": [
        "freq_total.plot(kind='line', marker='o', figsize=(10, 5))\n",
        "plt.xlabel('Mês')\n",
        "plt.ylabel('Custos')\n",
        "plt.title('Evolução dos Custos por Mês')\n",
        "plt.grid(True)\n",
        "plt.tight_layout()\n",
        "\n",
        "plt.show()"
      ],
      "metadata": {
        "colab": {
          "base_uri": "https://localhost:8080/",
          "height": 507
        },
        "id": "XBYG-FbPy5bj",
        "outputId": "16c5351b-6792-44fe-d2d9-4303e5c1c301"
      },
      "execution_count": null,
      "outputs": [
        {
          "output_type": "display_data",
          "data": {
            "text/plain": [
              "<Figure size 1000x500 with 1 Axes>"
            ],
            "image/png": "[encoded data removed]"
          },
          "metadata": {}
        }
      ]
    },
    {
      "cell_type": "markdown",
      "source": [
        "**Pelo gráfico algumas coisas ficam claras:**\n",
        "\n",
        "* Embora os custos com o Produto sejam de longe o maior, os mesmos se manteram consistentes durante os meses;\n",
        "* Os custos com marketing sofreram uma queda constante, com a maior sendo no mês de Maio;\n",
        "* Em contrapartida, os custos com entregas aumentaram consideravelmente a partir desse mesmo mês, como indicado pela intesecção das duas linhas no ponto 5.\n",
        "\n",
        "Considerando que o volume de vendas se manteve estável, percebe-se que aumento dos custos com entrega é o fator de maior impacto negativo na rentabilidade. Estes custos podem ser derivados de algumas variáveis, entre elas:\n",
        "\n",
        "1. **Valor de combustível:** O combustível afeta diretamente no valor de frete. Aqui cabe explorar sobre a situação econômica do país nos últimos meses; houve um aumento no valor do dólar? foram feitas greves?\n",
        "2. **Logística:** Caso a logística seja terceirizada, pode ter tido um aumento no valor cobrado por estas empresas; se a logística for interna, existem *n* fatores que podem contribuir para isto, como rotas mal planejadas, eficiência baixa, mau gerenciamento, veículos danificados, etc. Isso pode ser remediado com uma melhora no planejamento, focando em rotas mais curtas e diretas, garagens da frota em locais estratégicos, manutenção preventiva para evitar veículos parados, entre outros.\n",
        "3. **Taxas:** novas leis, licenciamento, taxas diversas e aumento de pedágio são algumas das possibilidades. Algo a se manter sempre em mente, pois são gastos inevitáveis e periódicos, um planejamento prévio no orçamento para permitir esse aumento sem perder rentabilidade é de máxima importância.\n",
        "\n",
        "Em suma, há muitas formas de remediar essa questão, o importante é focar na causa raíz. A metodologia dos 5 porquês caberia muito bem nesse caso, pois ela busca fundamentar o motivo central do problema. Porém mais do que remediar, é necessário focar em métricas e processos para prevenção.\n",
        "\n",
        "\n",
        "Outro fato interessante que o gráfico nos trás é que esse aumento dos custos na entrega acontece no mesmo mês em que os custos do marketing diminuíram.\n",
        "\n",
        "O marketing é um dos maiores (se não o maior) responsáveis em aumentar não só as vendas como a retenção e prospecção de clientes; a diminuição de investimentos nessa área uma questão crítica, visto que essa diminuição é uma possível causa para um número de vendas estagnado.\n",
        "\n",
        "Para termos um entendimento melhor dessas variáveis é necessário verificar a relação entre as mesmas; para isso irei olhar a correlação.\n",
        "\n"
      ],
      "metadata": {
        "id": "C8bjWPAn7vYh"
      }
    },
    {
      "cell_type": "markdown",
      "source": [
        "# Verificando correlações"
      ],
      "metadata": {
        "id": "nztmS0uA9Lwv"
      }
    },
    {
      "cell_type": "markdown",
      "source": [
        "A correlação de duas variáveis é uma medida de força da relação que vai de -1 a 1, onde valores próximos a 1 representam uma relação forte e números próximos de 0 representam uma relação fraca ou inexistente.\n",
        "* Correlações positivas significam que a medida que uma variável muda a outra segue, ou seja, se uma delas aumenta a outra irá aumentar também.\n",
        "* Correlações negativas são o oposto, nesse caso a medida que uma variável aumenta a outra irá diminuir e vice-versa.\n",
        "* No geral, correlações com valores acima de 0.7 são consideradas fortes e correlações com valores entre 0.3 a 0.7 são moderadas.\n",
        "\n",
        "Vale ressaltar que força de uma correlação vai depender muito do contexto sendo analisado!\n"
      ],
      "metadata": {
        "id": "PB33TVuMRrVN"
      }
    },
    {
      "cell_type": "code",
      "source": [
        "#Criando um mapa de calor para melhor visualização\n",
        "numeric_values = case_df.select_dtypes(include=['number'])\n",
        "sns.heatmap(numeric_values.corr(), annot=True, cmap='coolwarm', vmin=-1, vmax=1, center=0, linewidths=0.6)\n",
        "plt.title('Correlação entre Variáveis Numéricas')\n",
        "plt.show()"
      ],
      "metadata": {
        "colab": {
          "base_uri": "https://localhost:8080/",
          "height": 572
        },
        "id": "XwH4zl6u-cJx",
        "outputId": "f7e20c3f-8665-4004-aa4e-a29246371ec7"
      },
      "execution_count": null,
      "outputs": [
        {
          "output_type": "display_data",
          "data": {
            "text/plain": [
              "<Figure size 640x480 with 2 Axes>"
            ],
            "image/png": "[encoded data removed]"
          },
          "metadata": {}
        }
      ]
    },
    {
      "cell_type": "markdown",
      "source": [
        "1. **Custo dos Produtos / Custo Marketing** = 0.97\n",
        "2. **Custo dos Produtos / Custo Entrega** = 0.37\n",
        "3.  **Custo Marketing / Custo Entrega** = 0.35"
      ],
      "metadata": {
        "id": "Mqy6s84rgtBg"
      }
    },
    {
      "cell_type": "markdown",
      "source": [
        "### Investigando o impacto das relações"
      ],
      "metadata": {
        "id": "YVzYzDuEh3W2"
      }
    },
    {
      "cell_type": "code",
      "source": [
        "cat_grouped = case_df.groupby('Categoria')[['Custo Entrega', 'Custo dos Produtos', 'Custo Marketing']].mean().sort_values(by=['Custo Entrega', 'Custo dos Produtos','Custo Marketing'],ascending=False).round(2)\n",
        "print(cat_grouped.nlargest(columns='Custo Entrega', n=5))\n",
        "print(cat_grouped.nsmallest(columns='Custo Entrega', n=5))"
      ],
      "metadata": {
        "colab": {
          "base_uri": "https://localhost:8080/"
        },
        "id": "HHMRXcZeXhR7",
        "outputId": "05ae4072-b82a-4748-a10a-36a515f42779"
      },
      "execution_count": null,
      "outputs": [
        {
          "output_type": "stream",
          "name": "stdout",
          "text": [
            "              Custo Entrega  Custo dos Produtos  Custo Marketing\n",
            "Categoria                                                       \n",
            "TANQUINHO       19442394.95         37100915.31       7082558.93\n",
            "CHURRASCO        8897384.62            91408.00        293266.77\n",
            "SMARTPHONE       6076185.68         38948853.15       7683598.39\n",
            "REFRIGERADOR     4705456.09          8058888.80       1883068.03\n",
            "TV               4320326.76         17638929.13       3472717.45\n",
            "                      Custo Entrega  Custo dos Produtos  Custo Marketing\n",
            "Categoria                                                               \n",
            "ANIMAIS                        0.00                0.73             0.22\n",
            "CAMERAS/FILMADORAS             0.08                0.23             0.07\n",
            "ACESSORIOS NOTEBOOK           11.26                0.46             0.20\n",
            "ACESSÓRIOS TELEFONIA          33.19               24.64             6.91\n",
            "PISCINA                       37.85               26.82            11.77\n"
          ]
        }
      ]
    },
    {
      "cell_type": "markdown",
      "source": [
        "A tabela da média de gastos agrupado por categorias prova a veracidade da correlação calculada anteriormente; nela podemos verificar que quanto maior o gasto com entrega maior o gasto com o produto.\n",
        "\n",
        "\n",
        "Os produtos com maior custo de entrega são em sua maioria eletrodomésticos,possivelmente pelo fato de serem mais pesados e maiores em área, visto valores de frete geralmente são proporcionais à **distância** x **peso** x **área**.\n",
        "Uma opção é aumentar o valor de venda e simultaneamente aumentar a propaganda em cima deles, garantindo uma saída maior e consequentemente, a lucratividade."
      ],
      "metadata": {
        "id": "uGZjZ1tIfdQa"
      }
    },
    {
      "cell_type": "markdown",
      "source": [
        "# Considerações Finais\n"
      ],
      "metadata": {
        "id": "iMdrGLEznxe1"
      }
    },
    {
      "cell_type": "markdown",
      "source": [
        "Primeiramente, é essencial pensarmos no contexto dessa baixa de rentabilidade; além dos dados já vistos, é interessante considerar fatores externos, como já mencionado na questão dos valores de entregas. Uma consequência do custo de entrega muito alto é que para manter rentabilidade será necessário aumentar o valor das mesmas, o que pode acabar diminuindo o interesse de compra dos clientes. Uma alternativa à isso é incentivar a compra de mais de um produto por vez, por exemplo, diminuindo o gasto de combustível por venda. Isso pode ser feito por meio de promoções de descontos progressivos, etc.\n",
        "\n",
        "\n",
        "Outro fato importante a ser lembrado é a diminuição dos gastos com marketing; com os custos de entrega aumentando, a quantidade de vendas se manter estável não é o suficiente, logo um aumento em investimento para aumentar a base de clientes e o número de vendas é essencial. Aqui existem *n* possíveis métodos, como monitoramento de conversão de cliques para vendas, segmentação de clientes para propagandas mais eficazes, etc. A coleta desses dados geraria uma nova análise para entender melhor o que fazer e é um ótimo próximo passo."
      ],
      "metadata": {
        "id": "xP2_Dfv7OWEi"
      }
    }
  ]
}